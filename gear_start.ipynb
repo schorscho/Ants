{
  "cells": [
    {
      "cell_type": "markdown",
      "metadata": {
        "id": "view-in-github",
        "colab_type": "text"
      },
      "source": [
        "<a href=\"https://colab.research.google.com/github/schorscho/Ants/blob/master/gear_start.ipynb\" target=\"_parent\"><img src=\"https://colab.research.google.com/assets/colab-badge.svg\" alt=\"Open In Colab\"/></a>"
      ]
    },
    {
      "cell_type": "code",
      "execution_count": null,
      "metadata": {
        "id": "1qGD8DGhfwvq",
        "colab": {
          "base_uri": "https://localhost:8080/"
        },
        "outputId": "8afad110-2946-4ac8-f659-4967d3b6f462"
      },
      "outputs": [
        {
          "output_type": "stream",
          "name": "stdout",
          "text": [
            "Drive already mounted at /content/drive; to attempt to forcibly remount, call drive.mount(\"/content/drive\", force_remount=True).\n"
          ]
        }
      ],
      "source": [
        "%matplotlib inline\n",
        "\n",
        "import os\n",
        "import math\n",
        "import numpy as np\n",
        "import pandas as pd\n",
        "import matplotlib.pyplot as plt\n",
        "import networkx as nx\n",
        "\n",
        "from google.colab import drive\n",
        "\n",
        "class GC:\n",
        "    PROJECT_ROOT_DIR = '/content/drive/MyDrive/workspaces/GEAR'\n",
        "    DATA_DIR = os.path.join(PROJECT_ROOT_DIR, 'data')\n",
        "    OUTPUT_DIR = os.path.join(PROJECT_ROOT_DIR, 'output')\n",
        "    TB_LOG_DIR= os.path.join(OUTPUT_DIR, 'tb-logs')\n",
        "    SRC_DIR = os.path.join(PROJECT_ROOT_DIR, 'src')\n",
        "\n",
        "drive.mount('/content/drive')"
      ]
    },
    {
      "cell_type": "code",
      "execution_count": null,
      "metadata": {
        "colab": {
          "base_uri": "https://localhost:8080/"
        },
        "id": "eLzb_SCtfwvt",
        "outputId": "22a0ea74-c58b-40b0-8ac5-5b8444a7570f"
      },
      "outputs": [
        {
          "output_type": "stream",
          "name": "stderr",
          "text": [
            "/usr/local/lib/python3.7/dist-packages/openpyxl/styles/stylesheet.py:226: UserWarning: Workbook contains no default style, apply openpyxl's default\n",
            "  warn(\"Workbook contains no default style, apply openpyxl's default\")\n"
          ]
        },
        {
          "output_type": "stream",
          "name": "stdout",
          "text": [
            "<class 'pandas.core.frame.DataFrame'>\n",
            "RangeIndex: 3095 entries, 0 to 3094\n",
            "Data columns (total 3 columns):\n",
            " #   Column                Non-Null Count  Dtype \n",
            "---  ------                --------------  ----- \n",
            " 0   INTERFACE             3095 non-null   object\n",
            " 1   PROVIDER_APPLICATION  3095 non-null   object\n",
            " 2   CONSUMER_APPLICATION  3085 non-null   object\n",
            "dtypes: object(3)\n",
            "memory usage: 72.7+ KB\n"
          ]
        }
      ],
      "source": [
        "data = pd.ExcelFile(os.path.join(GC.DATA_DIR, 'GEAR_Export_20220106_093424.xlsx'))\n",
        "\n",
        "\n",
        "df_interface_provider = data.parse('applicationInterfaceProviderRe')\n",
        "df_interface_provider.drop(['id', 'type', 'RELATED_FACT_SHEET_TYPE', 'RELATED_FACT_SHEET_TYPE.1', 'status', 'activeFrom', 'activeUntil', 'naFields', 'description'], axis=1, inplace=True)\n",
        "df_interface_provider.rename(columns = {'RELATED_FACT_SHEET':'PROVIDER_APPLICATION', 'RELATED_FACT_SHEET.1':'INTERFACE'}, inplace = True)\n",
        "df_interface_provider.dropna(inplace = True)\n",
        "df_interface_provider.set_index('INTERFACE', inplace = True)\n",
        "df_interface_provider.drop('To', inplace = True)\n",
        "\n",
        "df_interface_consumer = data.parse('applicationInterfaceConsumerRe')\n",
        "df_interface_consumer.drop(['id', 'type', 'RELATED_FACT_SHEET_TYPE', 'RELATED_FACT_SHEET_TYPE.1', 'status', 'activeFrom', 'activeUntil', 'naFields', 'description'], axis=1, inplace=True)\n",
        "df_interface_consumer.rename(columns = {'RELATED_FACT_SHEET':'CONSUMER_APPLICATION', 'RELATED_FACT_SHEET.1':'INTERFACE'}, inplace = True)\n",
        "df_interface_consumer.dropna(inplace = True)\n",
        "df_interface_consumer.set_index('INTERFACE', inplace = True)\n",
        "df_interface_consumer.drop('To', inplace = True)\n",
        "\n",
        "df_vertice = df_interface_provider.join(df_interface_consumer)\n",
        "df_vertice.reset_index(drop=False, inplace=True)\n",
        "\n",
        "df_vertice.info()"
      ]
    },
    {
      "cell_type": "code",
      "execution_count": null,
      "metadata": {
        "id": "NiKdYYBJfwvt",
        "outputId": "39054ed7-cc39-4c49-b584-7e7945f9e6e2",
        "colab": {
          "base_uri": "https://localhost:8080/"
        }
      },
      "outputs": [
        {
          "output_type": "execute_result",
          "data": {
            "text/plain": [
              "DegreeView({'Optisches Archiv': 12, 'EDwin': 33, 'Vorgangs-DB (incl. AVuS)': 83, 'LZ Druck': 17, 'Provisionsbearbeitung': 29, 'Vermittlerinkasso (VMI)': 24, 'Adobe Target Premium': 1, 'Adobe Analytics': 7, 'CTV - Textverarbeitung': 44, 'Leben Mathematik proVI': 46, 'Komposit Vertragsverwaltung (SV)': 77, 'DiOrg Vermittlervereinbarungen': 49, 'ERGO Berechtigungssystem': 94, 'Code of Conduct': 60, 'ZKK Konto': 55, 'Partnerverwaltung (Paris)': 36, 'Externe Schnittstelle': 15, 'Dokumentenerstellung/Korrespondenz': 17, 'Leistung/Schaden (Casis)': 15, 'SAP-HCM Personalwirtschaft': 74, 'ZKK-Exkasso': 30, 'ERGO-Partnersystem (PDB)': 115, 'Zentrale Provision für ERGO-AO-Vertrieb (KV/LF/LV/SV)': 30, 'Workflow': 20, 'Vertriebs-/Potentialsteuerung': 7, 'ERGO Informationssystem': 47, 'Leben Verwaltung Antrag/Vertrag': 78, 'DiOrg Aufbauorganisation': 121, 'EBIS und Kunden DB KDB': 48, 'AD-DB': 50, 'Allgemeine Vertragsdaten': 112, 'ZKK Abrechnungsvereinbarungen': 37, 'Gerichtliches Mahnverfahren GMV': 31, 'DAVID': 10, 'In-Exkasso (Pacos)': 19, 'Leben Bilanz SAS-Bilanzsystem': 15, 'Leben Bilanz (Vertragsdatenpool)': 21, 'VG Bestandsänderungen': 24, 'SAP - Human Capital Management': 9, 'Data Warehouse': 17, 'Zentrale Datenbeschaffung für das Textsystem': 13, 'Life Classic Integration': 29, 'Life Classic Run-Off Platform': 1, 'Allgemeine Beziehungen': 36, 'KVTA': 13, 'Produktionsdatenbank': 4, 'SAP-FI Finanzbuchhaltung': 31, 'Leben Firmenkunden': 52, 'Kundenportal Meine Versicherungen': 21, 'ZKK Allgemein': 67, 'Beitragsdepot Leben/Unfall': 11, 'Leben Bilanz (ohne proVI Tarife)': 16, 'Leben Mathematik Alt-Tarife': 23, 'Gesundheit Antragsverwaltung': 8, 'Data Warehouse - CRM': 20, 'Data Warehouse - Direkt & Online Marketing': 9, 'Dispositives System SV-Verträge (DSV)': 19, 'ZKK Geldverrechnung': 32, 'ZKK-Leistungskontokorrent': 38, 'EMA ERGO Meine Adressen (SF Sales Cloud)': 1, 'EASY - ERGO Aussendienst System': 45, 'Leben Klassik Urkunde': 19, 'ZKK Lastschrift': 31, 'Gesundheit Bestandsverwaltung': 70, 'Kraftfahrt Vertragsverwaltung': 49, 'Anspruch': 36, 'Angebot (AS2000)': 13, 'Webauftritt ERGO.de': 6, 'Offer Engine (OE)': 30, 'Provision AO1': 43, 'Vertriebs- und Spartenanalyse VESPA': 12, 'Data Warehouse - Operations Health': 10, 'Vorgerichtliches Mahnverfahren': 37, 'ERGO-Postkorb': 57, 'Produktionsmeldungen ERGO-Vertrieb': 12, 'SCOUT (ServiceCenter Online Und Telefonie)': 59, 'Wettbewerb': 18, 'Kooperationspartner': 22, 'ANS': 5, 'iLiFE (Life-Factory)': 63, 'Werbe-Erfolgs-Kontrolle': 23, 'Komposit Rückversicherung (SAP-FSRI)': 6, 'Central Access Rights at ERGO (CARE)': 16, 'Gesundheit Leistungsbearbeitung (Smile)': 32, 'ERGO Prozesssteuerung Workflow': 32, 'ZKK-Außendienstabrechnung': 29, 'Bündelverträge': 28, 'Buchauszug': 17, 'Komposit Leistungsbearbeitung (SaViR)': 52, 'Kraftfahrt-Moped-Bestandsverwaltung': 56, 'ZKK-Partnerinkasso': 37, 'Beratungsdokumentation ERGO-Vertrieb': 11, 'Scannen und Erkennen': 4, 'Zentrale Provision für DKV-Vertrieb': 22, 'Data Warehouse - Actuarial & Product Management - P&C': 12, 'ERGO Stornoinformationssystem': 47, 'Außendienstabrechnung HH': 15, 'ZKK Buchhaltung': 32, 'Incentive': 9, 'Bestandssystem (Kompass)': 31, 'Dispositives System Gesundheit/Datamarts Kalkulation (DMK)': 11, 'Infonea Cube Gesundheit (IV3-Data)': 2, 'Document Production System': 2, 'Textsystem': 38, 'PLZ-Vertriebszuständigkeit-Zuordnung (ehem: PLZ-Zuordnung)': 14, 'Vorsorge DOPiX': 1, 'Vorsorge THEO': 9, 'Partnerprovision für ERGO-AO-Vertrieb': 19, 'Gesundheit Vertragsverwaltung Ausland': 25, 'Antragserfassung': 50, 'Länder- und Währungssystem': 2, 'Leben Mathematik HM': 19, 'GDV-Systeme': 7, 'Gesundheit Zulagenverwaltung Pflegeversicherung': 10, 'ZKK-Cash Conto': 16, 'Leben Bilanz (Schaden-/Buch-Info-System)': 14, 'Gesundheit Pflegesystem Tarif': 4, 'MatchMaker': 9, 'Zulagensystem (AZUR)': 26, 'Smaragd TCM': 12, 'Cogon Treasury Suite': 4, 'elektronisches Banking (TRAX)': 11, 'Deckungsbeitragsrechnung DBR': 11, 'Makler- und Partner-DTA (Zentraler Datenpool)': 20, 'Data Warehouse - Dialog Sales': 10, 'Leben Verwaltung Leistung': 44, 'Buchungsassistenten (BA Runtime)': 3, 'ERV Website (erv.de)': 1, 'Kleinleben': 28, 'B2B Portal': 9, 'Corporate pension portal Xempus': 2, 'Gemeinsames Kundenportal Meine Versicherungen (renewed)': 22, 'ZKK Beitrag und Rechnung': 45, 'Restschuld': 17, 'Agorum (Document Archive)': 3, 'ERV Dopix (DMS)': 3, 'Marketing Automation, Marketing Optimization and Real Time Decision Manager': 4, 'Data Distribution Hub': 10, 'zentrale Geldeingangsverarbeitung CCM inklusive Geldsuche': 32, 'Managment-Information-System Operations (MIS-O)': 27, 'DB2F': 6, 'Eingangsmanagement ERGO': 26, 'Beitrags- und Provisionsstatistik BPS': 9, 'Advanced Analytics Platform': 1, 'Abakus': 3, 'Facility Management FAME': 11, 'KSC Controlling Telefonstatistik': 2, 'Bestandslose Produkte': 2, 'BI-DiOrg-Säule': 3, 'Dispositves System CCM': 16, 'VS-Datenpool': 15, 'SAP-FI-AA Anlagenbuchhaltung': 9, 'MailCenter': 2, 'Stationierungsstreitkräfte': 5, 'Data Warehouse - Actuarial & Product Management - Health': 12, 'Document Management System Lux': 2, 'Customer Service Workplace Lux': 2, 'Zentrales Archiv-Informationssystem': 5, 'OAM Archive Access & Image Viewer': 3, 'CLS': 10, 'AIDA': 11, 'ERGO-Vertriebskennzahlen': 3, 'DWH System Investment Products FiPro': 3, 'Vertriebs-Druckvorsystem': 6, 'Transaction Controlling & Monitoring Lux': 3, 'Insurance Company Information System (ICIS) Lux': 16, 'Vorsorge Provisionsreporting': 3, 'Berichts- und Statistikwesen BSW (Cognos)': 3, 'Caesar': 11, 'Leben Bilanz AIDA': 15, 'SAP-CML Hypotheken/ Refin./ KDA': 17, 'Vertriebsaktionssteuerung': 22, 'Vorsorge ICIS D': 18, 'Master Data Management': 15, 'Collection and Disbursement Lux': 5, 'VG Neugeschäft': 22, 'ERGO Organisationssystem': 7, 'Interessenten-System INA': 30, 'Vorsorge Workflow': 4, 'Fuhrparkmanagement-System': 1, 'ERV Payment Service': 6, 'ERV Expert': 4, 'Zuständigkeitsermittlung': 29, 'Antrags-Identische Masken (Video-Erfassung)': 14, 'AMNOG - Arzneimittel-NeuOrdnungsGesetz bzw. KVR - Krankenversicherung Rabatte': 5, 'Website ERGO.de (renewed)': 10, 'EMS ERGO Mobility Solutions': 13, 'Leben Bilanz Passive Rückversicherung': 6, 'Data Warehouse - Human Resources': 2, 'Planning Analytics': 3, 'ResQ': 1, 'Provision': 13, 'Data Warehouse - Sales Management': 5, 'Data Warehouse - Accounting ERGO Direkt': 6, 'SAP Business Warehouse FI/CO': 9, 'Bestandssteuerung': 31, 'SAP-CO Kostenrechnung': 13, 'Vorsorge Produkttool': 1, 'Dispositives System Schaden (DSS)': 16, 'Broker Connection Services': 7, 'Datenaufbereitung (DAB)': 7, 'Vorsorge Vertriebliches Reporting': 5, 'ZKK Meldewesen': 27, 'Call Center Telephony': 1, 'Commissions Management System': 20, 'CAM (Credit Application Manager)': 4, 'TAMOS UI Telephony': 2, 'VRV eCommerce': 6, 'HV-Tool': 1, 'Actuarial Data Preparation': 2, 'Risk & Accounting Data Integration Platform': 2, 'ImmoSmart': 1, 'VG Verarbeitungen für die Vereine': 16, 'Vorsorge AZUR': 2, 'Online Offer-Uis': 4, 'Management-Informationssystem': 9, 'Schnittstelle zu STAR': 2, 'ERGO Mein Interessent': 6, 'Agentur2go': 2, 'Archiv der ERGO-Gesellschaften HM und D.A.S.': 6, 'Aktions-Controlling': 4, 'Data Warehouse - Controlling ERGO Direkt': 9, 'UDH Commercial P&C': 5, 'Gesundheit VIPS/VESPA': 3, 'Voice Platform': 2, 'Sales Controlling System': 3, 'Smart Tax Balance (Client) (AMANA)': 1, 'AdLon - CRM System der Longial (Microsoft Dynamics CRM 2016)': 1, 'SAP-CFM Beteiligungen': 9, 'Analytics Software for Fraud': 2, 'Data Warehouse - Reserving Life ERGO Direkt': 10, 'B2B Kompas': 1, 'Dispositives System Gesundheit/Prozess- und Steuerungsdaten (CPS)': 5, 'Dispositives System Gesundheit/Core DataWarehouse (CDW)': 18, 'Betriebliche Altersversorgung BAV': 2, 'SAP System der ERV': 8, 'PPA (Prämien- und Provisionsabrechnung)': 8, 'Data Warehouse - Cooperation Sales': 13, 'Kundenportal': 4, 'I-DAT': 4, 'MR ECON (SAP ECON: SEM BCS)': 2, 'EPad': 1, 'ERV2000 (Agentur, Provision)': 4, 'Life Insurance ProductTool Lux': 1, 'Travel Management Solution': 1, 'Vorsorge In- und Exkasso': 4, 'insure HealthClaims (iHC)': 7, 'Angebots- und Policierungsrabatte': 5, 'Webauftritt DKV.com': 3, 'Voriba': 6, 'Vertriebsportal (Tied Agents)': 1, 'SAP SSF (Shared Service Framework)': 1, 'Central Content Management System for Portals': 1, 'ZAV Vermittlerportal (VMP)': 3, 'Freundschaftswerbung': 4, nan: 10, 'Sales Partner Management': 6, 'Underwriting (MRAS)': 6, 'Broker Portal': 2, 'ELMAS': 1, 'e-Campus': 4, 'ERGO-Weiterbildungsdatenbank Reporting': 4, 'IDECard': 6, 'Annotext': 1, 'Active Directory Flexitel': 1, 'Produktsystem': 7, 'Leben Bilanz PAWEL': 1, 'Vorsorge Seven': 6, 'Leben Bilanz Passive Rückversicherung - New Book': 2, 'Tableau': 1, 'Claims service sites': 1, 'B2B Services': 5, 'ETL (Datenbereitstellung iDAT und RMFI)': 7, 'SAS IRM Standardmodell': 1, 'TDM2000': 5, 'Aktive Rückversicherung': 1, 'Beschwerdemanagement (HCM)': 3, 'Igloo Enterprise': 2, 'CAFM System (Archibus)': 5, 'Customer Journey Identification': 8, 'Prophet': 4, 'ERV Code of Conduct System (Datenschutz)': 2, 'SIPORT': 2, 'Beratungsprotokoll': 6, 'ERV2000 (Tarife)': 4, 'Regulierer App': 1, 'ERGO Fondsberater': 3, 'Leben Bilanz RV-NewRe': 4, 'Wüstenrot-Rechner': 1, 'Corporate pension portal eVorsorge': 2, 'Local Data Integration and Staging': 2, 'ERGO Mein lokales Marketing': 1, 'Multi Channel UI based on TAMOS': 1, 'SAP-MM Materialwirtschaft': 5, 'Commercial P&C Management International': 1, 'Sales Process Engine': 3, 'Cookie Consent Tool': 5, 'Website ergo.com': 1, 'ERGO Pro Online-Office': 4, 'Antragsstatistik IS300': 2, 'Business Process Management System': 2, 'Campaign Management Tool  (CMT)': 1, 'Marketing Data Hub': 2, 'LeiCos - Leistungsmangement Controlling (LMC)': 2, 'TCPOS Kassensystem': 1, 'IDOffice360': 3, 'Bestand Brille': 1, 'ERV DWH': 2, 'ERGO GRC tool': 2, 'Global ERGO Architecture Repository': 2, 'ERGO Quiz4WP App': 1, 'ERGO Business-to-Customer Mobile App': 1, 'TAMOS UI Online': 3, 'Active Directory ERGO Germany': 1, 'KV-Berater': 2, 'KV-Berater DB-Datenabzug': 1, 'Emarsys': 1, 'Tied Agent Homepages (ADHop)': 4, 'Collection & Disbursement': 1, 'Global Active Directory': 1, 'Vorsorge Dokumentenmanagementsystem': 2, 'Cosmos RVM Manager': 1, 'ERV2000 (RV-Tool)': 1, 'Sales Partner Management System Lux': 1, 'Active Directory HDFC ERGO India': 1, 'I-DAT Reporting': 2, 'Robotics Process Automation': 1, 'ImmoScan': 1, 'KV-PDF-Assistent': 1, 'ÜWP Bestand': 2, 'Hypokick': 1, 'B2B Portal: IAM': 2, 'Kunden-Inbox': 1, 'Vorsorge KOFAX': 2, 'Sozialversicherung Pflegeperson SOSIP': 2, 'SAP Business Warehouse HCM': 1, 'Kunden Self-Service': 2, 'IT Service Management': 1, 'Virtuelle Akademie (Cloud)': 1, 'ERGO Quiz4IHK App': 1, 'Online-/Telefonie-Abschluss DKV': 1, 'NPS-Operations: MAX-S, TDNPS, Ergo Direkt': 1, 'ERV Website (erv.de) (renewed)': 1, 'Website ERGO Next': 1, 'TAMOS UI Tied Agents': 1, 'Quiz4Pro': 1, 'Dispositives System Gesundheitsmanagement (DSG)': 3, 'XFoot': 1, 'Vorsorge Antragserfassung': 1, 'DKV-RechnungsApp': 1})"
            ]
          },
          "metadata": {},
          "execution_count": 11
        }
      ],
      "source": [
        "graph = nx.Graph()\n",
        "\n",
        "for s1, s2, s3 in df_vertice.values:\n",
        "    graph.add_edge(s2, s3, name=s1)\n",
        "    \n",
        "nx.degree(graph)"
      ]
    },
    {
      "cell_type": "code",
      "execution_count": null,
      "metadata": {
        "id": "kci0cvokfwvu",
        "outputId": "ec34797b-266c-4422-df68-9c6a0938f509",
        "colab": {
          "base_uri": "https://localhost:8080/"
        }
      },
      "outputs": [
        {
          "output_type": "execute_result",
          "data": {
            "text/plain": [
              "[('DiOrg Aufbauorganisation', 121),\n",
              " ('ERGO-Partnersystem (PDB)', 115),\n",
              " ('Allgemeine Vertragsdaten', 112),\n",
              " ('ERGO Berechtigungssystem', 94),\n",
              " ('Vorgangs-DB (incl. AVuS)', 83),\n",
              " ('Leben Verwaltung Antrag/Vertrag', 78),\n",
              " ('Komposit Vertragsverwaltung (SV)', 77),\n",
              " ('SAP-HCM Personalwirtschaft', 74),\n",
              " ('Gesundheit Bestandsverwaltung', 70),\n",
              " ('ZKK Allgemein', 67)]"
            ]
          },
          "metadata": {},
          "execution_count": 12
        }
      ],
      "source": [
        "sorted(nx.degree(graph), key = lambda x: x[1], reverse=True)[:10]"
      ]
    },
    {
      "cell_type": "code",
      "execution_count": null,
      "metadata": {
        "id": "Bzrxg54ffwvu",
        "outputId": "41b8c650-241d-40b4-bfe4-8c9422263535",
        "colab": {
          "base_uri": "https://localhost:8080/"
        }
      },
      "outputs": [
        {
          "output_type": "execute_result",
          "data": {
            "text/plain": [
              "(350, 2437)"
            ]
          },
          "metadata": {},
          "execution_count": 13
        }
      ],
      "source": [
        "graph.number_of_nodes(), graph.number_of_edges()"
      ]
    },
    {
      "cell_type": "code",
      "execution_count": null,
      "metadata": {
        "id": "oaCWrYtafwvv",
        "outputId": "75337b9f-69d7-422d-b81a-402dfa846592",
        "colab": {
          "base_uri": "https://localhost:8080/"
        }
      },
      "outputs": [
        {
          "output_type": "execute_result",
          "data": {
            "text/plain": [
              "350"
            ]
          },
          "metadata": {},
          "execution_count": 14
        }
      ],
      "source": [
        "\n",
        "len([x[1] for x in list(nx.degree(graph))])"
      ]
    },
    {
      "cell_type": "code",
      "execution_count": null,
      "metadata": {
        "id": "0lk8qMKsfwvv",
        "outputId": "938267fb-fe76-4d1c-9e17-e75342cff647",
        "colab": {
          "base_uri": "https://localhost:8080/",
          "height": 268
        }
      },
      "outputs": [
        {
          "output_type": "display_data",
          "data": {
            "text/plain": [
              "<Figure size 432x288 with 1 Axes>"
            ],
            "image/png": "[encoded data removed]"
          },
          "metadata": {
            "needs_background": "light"
          }
        }
      ],
      "source": [
        "plt.hist([x[1] for x in list(nx.degree(graph))], bins=120, align='right', log=False)\n",
        "#ax = plt.gca()\n",
        "#ax.axes.xaxis.set_visible(False)\n",
        "plt.show()"
      ]
    },
    {
      "cell_type": "code",
      "execution_count": null,
      "metadata": {
        "id": "CJyDhq5Rfwvv",
        "outputId": "c22f9773-b59f-4782-eb3b-2cd6efb36c42",
        "colab": {
          "base_uri": "https://localhost:8080/"
        }
      },
      "outputs": [
        {
          "output_type": "execute_result",
          "data": {
            "text/plain": [
              "[('ERGO-Partnersystem (PDB)', 0.21066084496956605),\n",
              " ('DiOrg Aufbauorganisation', 0.21049999082126403),\n",
              " ('Allgemeine Vertragsdaten', 0.20668154683985404),\n",
              " ('ERGO Berechtigungssystem', 0.19397491573775888),\n",
              " ('Vorgangs-DB (incl. AVuS)', 0.18017457997641206),\n",
              " ('Leben Verwaltung Antrag/Vertrag', 0.17565496237353437),\n",
              " ('Komposit Vertragsverwaltung (SV)', 0.17358109122925927),\n",
              " ('ZKK Allgemein', 0.15899812328966023),\n",
              " ('Code of Conduct', 0.15361055479029043),\n",
              " ('Gesundheit Bestandsverwaltung', 0.14715792310076853)]"
            ]
          },
          "metadata": {},
          "execution_count": 16
        }
      ],
      "source": [
        "sorted(nx.eigenvector_centrality(graph).items(), key=lambda x : x[1], reverse=True)[:10]"
      ]
    },
    {
      "cell_type": "code",
      "execution_count": null,
      "metadata": {
        "id": "nr4wmNJqfwvw"
      },
      "outputs": [],
      "source": [
        ""
      ]
    }
  ],
  "metadata": {
    "kernelspec": {
      "display_name": "Python 3 (ipykernel)",
      "language": "python",
      "name": "python3"
    },
    "language_info": {
      "codemirror_mode": {
        "name": "ipython",
        "version": 3
      },
      "file_extension": ".py",
      "mimetype": "text/x-python",
      "name": "python",
      "nbconvert_exporter": "python",
      "pygments_lexer": "ipython3",
      "version": "3.10.5"
    },
    "colab": {
      "name": "gear_start.ipynb",
      "provenance": [],
      "collapsed_sections": [],
      "include_colab_link": true
    }
  },
  "nbformat": 4,
  "nbformat_minor": 0
}