{
  "cells": [
    {
      "cell_type": "markdown",
      "source": [
        "*   Trennen von ED und ERGO\n",
        "*   Cluster\n",
        "\n"
      ],
      "metadata": {
        "id": "3gOg-dPtoucj"
      }
    },
    {
      "cell_type": "code",
      "execution_count": 1,
      "metadata": {
        "id": "1qGD8DGhfwvq",
        "colab": {
          "base_uri": "https://localhost:8080/"
        },
        "outputId": "71b1f686-e0da-4174-f551-020c066e6bb1"
      },
      "outputs": [
        {
          "output_type": "stream",
          "name": "stdout",
          "text": [
            "Mounted at /content/drive\n"
          ]
        }
      ],
      "source": [
        "%matplotlib inline\n",
        "\n",
        "import os\n",
        "import math\n",
        "import numpy as np\n",
        "import pandas as pd\n",
        "import matplotlib.pyplot as plt\n",
        "import networkx as nx\n",
        "\n",
        "from google.colab import drive\n",
        "\n",
        "class GC:\n",
        "    PROJECT_ROOT_DIR = '/content/drive/MyDrive/workspaces/GEAR'\n",
        "    DATA_DIR = os.path.join(PROJECT_ROOT_DIR, 'data')\n",
        "    OUTPUT_DIR = os.path.join(PROJECT_ROOT_DIR, 'output')\n",
        "    TB_LOG_DIR= os.path.join(OUTPUT_DIR, 'tb-logs')\n",
        "    SRC_DIR = os.path.join(PROJECT_ROOT_DIR, 'src')\n",
        "\n",
        "drive.mount('/content/drive')"
      ]
    },
    {
      "cell_type": "code",
      "execution_count": 173,
      "metadata": {
        "colab": {
          "base_uri": "https://localhost:8080/",
          "height": 458
        },
        "id": "eLzb_SCtfwvt",
        "outputId": "88568505-4b3d-40db-8f46-6f2528fa8d6d"
      },
      "outputs": [
        {
          "output_type": "stream",
          "name": "stderr",
          "text": [
            "/usr/local/lib/python3.7/dist-packages/openpyxl/styles/stylesheet.py:226: UserWarning: Workbook contains no default style, apply openpyxl's default\n",
            "  warn(\"Workbook contains no default style, apply openpyxl's default\")\n"
          ]
        },
        {
          "output_type": "execute_result",
          "data": {
            "text/plain": [
              "                                                  index  \\\n",
              "0                                                 AD-DB   \n",
              "1                                                 AD-DB   \n",
              "2                                                 AD-DB   \n",
              "3                                                 AD-DB   \n",
              "4                                                 AD-DB   \n",
              "...                                                 ...   \n",
              "3090  zentrale Geldeingangsverarbeitung CCM inklusiv...   \n",
              "3091  zentrale Geldeingangsverarbeitung CCM inklusiv...   \n",
              "3092  zentrale Geldeingangsverarbeitung CCM inklusiv...   \n",
              "3093  zentrale Geldeingangsverarbeitung CCM inklusiv...   \n",
              "3094                                        ÜWP Bestand   \n",
              "\n",
              "                                              INTERFACE  \\\n",
              "0                      AD-DB | Allgemeine Vertragsdaten   \n",
              "1                                     AD-DB | ZKK Konto   \n",
              "2                          AD-DB | Zulagensystem (AZUR)   \n",
              "3                          AD-DB | iLiFE (Life-Factory)   \n",
              "4         AD-DB | Komposit Leistungsbearbeitung (SaViR)   \n",
              "...                                                 ...   \n",
              "3090  zentrale Geldeingangsverarbeitung CCM inklusiv...   \n",
              "3091  zentrale Geldeingangsverarbeitung CCM inklusiv...   \n",
              "3092  zentrale Geldeingangsverarbeitung CCM inklusiv...   \n",
              "3093  zentrale Geldeingangsverarbeitung CCM inklusiv...   \n",
              "3094                  ÜWP Bestand | ERV Payment Service   \n",
              "\n",
              "                       CONSUMER_APPLICATION   NR  \n",
              "0                  Allgemeine Vertragsdaten   11  \n",
              "1                                 ZKK Konto   11  \n",
              "2                      Zulagensystem (AZUR)   11  \n",
              "3                      iLiFE (Life-Factory)   11  \n",
              "4     Komposit Leistungsbearbeitung (SaViR)   11  \n",
              "...                                     ...  ...  \n",
              "3090                     ZKK-Partnerinkasso  301  \n",
              "3091        Leben Verwaltung Antrag/Vertrag  301  \n",
              "3092               Life Classic Integration  301  \n",
              "3093              ZKK-Leistungskontokorrent  301  \n",
              "3094                    ERV Payment Service  353  \n",
              "\n",
              "[3095 rows x 4 columns]"
            ],
            "text/html": [
              "\n",
              "  <div id=\"df-f64e70c7-9ee2-41ad-b559-93bf5d2fa095\">\n",
              "    <div class=\"colab-df-container\">\n",
              "      <div>\n",
              "<style scoped>\n",
              "    .dataframe tbody tr th:only-of-type {\n",
              "        vertical-align: middle;\n",
              "    }\n",
              "\n",
              "    .dataframe tbody tr th {\n",
              "        vertical-align: top;\n",
              "    }\n",
              "\n",
              "    .dataframe thead th {\n",
              "        text-align: right;\n",
              "    }\n",
              "</style>\n",
              "<table border=\"1\" class=\"dataframe\">\n",
              "  <thead>\n",
              "    <tr style=\"text-align: right;\">\n",
              "      <th></th>\n",
              "      <th>index</th>\n",
              "      <th>INTERFACE</th>\n",
              "      <th>CONSUMER_APPLICATION</th>\n",
              "      <th>NR</th>\n",
              "    </tr>\n",
              "  </thead>\n",
              "  <tbody>\n",
              "    <tr>\n",
              "      <th>0</th>\n",
              "      <td>AD-DB</td>\n",
              "      <td>AD-DB | Allgemeine Vertragsdaten</td>\n",
              "      <td>Allgemeine Vertragsdaten</td>\n",
              "      <td>11</td>\n",
              "    </tr>\n",
              "    <tr>\n",
              "      <th>1</th>\n",
              "      <td>AD-DB</td>\n",
              "      <td>AD-DB | ZKK Konto</td>\n",
              "      <td>ZKK Konto</td>\n",
              "      <td>11</td>\n",
              "    </tr>\n",
              "    <tr>\n",
              "      <th>2</th>\n",
              "      <td>AD-DB</td>\n",
              "      <td>AD-DB | Zulagensystem (AZUR)</td>\n",
              "      <td>Zulagensystem (AZUR)</td>\n",
              "      <td>11</td>\n",
              "    </tr>\n",
              "    <tr>\n",
              "      <th>3</th>\n",
              "      <td>AD-DB</td>\n",
              "      <td>AD-DB | iLiFE (Life-Factory)</td>\n",
              "      <td>iLiFE (Life-Factory)</td>\n",
              "      <td>11</td>\n",
              "    </tr>\n",
              "    <tr>\n",
              "      <th>4</th>\n",
              "      <td>AD-DB</td>\n",
              "      <td>AD-DB | Komposit Leistungsbearbeitung (SaViR)</td>\n",
              "      <td>Komposit Leistungsbearbeitung (SaViR)</td>\n",
              "      <td>11</td>\n",
              "    </tr>\n",
              "    <tr>\n",
              "      <th>...</th>\n",
              "      <td>...</td>\n",
              "      <td>...</td>\n",
              "      <td>...</td>\n",
              "      <td>...</td>\n",
              "    </tr>\n",
              "    <tr>\n",
              "      <th>3090</th>\n",
              "      <td>zentrale Geldeingangsverarbeitung CCM inklusiv...</td>\n",
              "      <td>zentrale Geldeingangsverarbeitung CCM inklusiv...</td>\n",
              "      <td>ZKK-Partnerinkasso</td>\n",
              "      <td>301</td>\n",
              "    </tr>\n",
              "    <tr>\n",
              "      <th>3091</th>\n",
              "      <td>zentrale Geldeingangsverarbeitung CCM inklusiv...</td>\n",
              "      <td>zentrale Geldeingangsverarbeitung CCM inklusiv...</td>\n",
              "      <td>Leben Verwaltung Antrag/Vertrag</td>\n",
              "      <td>301</td>\n",
              "    </tr>\n",
              "    <tr>\n",
              "      <th>3092</th>\n",
              "      <td>zentrale Geldeingangsverarbeitung CCM inklusiv...</td>\n",
              "      <td>zentrale Geldeingangsverarbeitung CCM inklusiv...</td>\n",
              "      <td>Life Classic Integration</td>\n",
              "      <td>301</td>\n",
              "    </tr>\n",
              "    <tr>\n",
              "      <th>3093</th>\n",
              "      <td>zentrale Geldeingangsverarbeitung CCM inklusiv...</td>\n",
              "      <td>zentrale Geldeingangsverarbeitung CCM inklusiv...</td>\n",
              "      <td>ZKK-Leistungskontokorrent</td>\n",
              "      <td>301</td>\n",
              "    </tr>\n",
              "    <tr>\n",
              "      <th>3094</th>\n",
              "      <td>ÜWP Bestand</td>\n",
              "      <td>ÜWP Bestand | ERV Payment Service</td>\n",
              "      <td>ERV Payment Service</td>\n",
              "      <td>353</td>\n",
              "    </tr>\n",
              "  </tbody>\n",
              "</table>\n",
              "<p>3095 rows × 4 columns</p>\n",
              "</div>\n",
              "      <button class=\"colab-df-convert\" onclick=\"convertToInteractive('df-f64e70c7-9ee2-41ad-b559-93bf5d2fa095')\"\n",
              "              title=\"Convert this dataframe to an interactive table.\"\n",
              "              style=\"display:none;\">\n",
              "        \n",
              "  <svg xmlns=\"http://www.w3.org/2000/svg\" height=\"24px\"viewBox=\"0 0 24 24\"\n",
              "       width=\"24px\">\n",
              "    <path d=\"M0 0h24v24H0V0z\" fill=\"none\"/>\n",
              "    <path d=\"M18.56 5.44l.94 2.06.94-2.06 2.06-.94-2.06-.94-.94-2.06-.94 2.06-2.06.94zm-11 1L8.5 8.5l.94-2.06 2.06-.94-2.06-.94L8.5 2.5l-.94 2.06-2.06.94zm10 10l.94 2.06.94-2.06 2.06-.94-2.06-.94-.94-2.06-.94 2.06-2.06.94z\"/><path d=\"M17.41 7.96l-1.37-1.37c-.4-.4-.92-.59-1.43-.59-.52 0-1.04.2-1.43.59L10.3 9.45l-7.72 7.72c-.78.78-.78 2.05 0 2.83L4 21.41c.39.39.9.59 1.41.59.51 0 1.02-.2 1.41-.59l7.78-7.78 2.81-2.81c.8-.78.8-2.07 0-2.86zM5.41 20L4 18.59l7.72-7.72 1.47 1.35L5.41 20z\"/>\n",
              "  </svg>\n",
              "      </button>\n",
              "      \n",
              "  <style>\n",
              "    .colab-df-container {\n",
              "      display:flex;\n",
              "      flex-wrap:wrap;\n",
              "      gap: 12px;\n",
              "    }\n",
              "\n",
              "    .colab-df-convert {\n",
              "      background-color: #E8F0FE;\n",
              "      border: none;\n",
              "      border-radius: 50%;\n",
              "      cursor: pointer;\n",
              "      display: none;\n",
              "      fill: #1967D2;\n",
              "      height: 32px;\n",
              "      padding: 0 0 0 0;\n",
              "      width: 32px;\n",
              "    }\n",
              "\n",
              "    .colab-df-convert:hover {\n",
              "      background-color: #E2EBFA;\n",
              "      box-shadow: 0px 1px 2px rgba(60, 64, 67, 0.3), 0px 1px 3px 1px rgba(60, 64, 67, 0.15);\n",
              "      fill: #174EA6;\n",
              "    }\n",
              "\n",
              "    [theme=dark] .colab-df-convert {\n",
              "      background-color: #3B4455;\n",
              "      fill: #D2E3FC;\n",
              "    }\n",
              "\n",
              "    [theme=dark] .colab-df-convert:hover {\n",
              "      background-color: #434B5C;\n",
              "      box-shadow: 0px 1px 3px 1px rgba(0, 0, 0, 0.15);\n",
              "      filter: drop-shadow(0px 1px 2px rgba(0, 0, 0, 0.3));\n",
              "      fill: #FFFFFF;\n",
              "    }\n",
              "  </style>\n",
              "\n",
              "      <script>\n",
              "        const buttonEl =\n",
              "          document.querySelector('#df-f64e70c7-9ee2-41ad-b559-93bf5d2fa095 button.colab-df-convert');\n",
              "        buttonEl.style.display =\n",
              "          google.colab.kernel.accessAllowed ? 'block' : 'none';\n",
              "\n",
              "        async function convertToInteractive(key) {\n",
              "          const element = document.querySelector('#df-f64e70c7-9ee2-41ad-b559-93bf5d2fa095');\n",
              "          const dataTable =\n",
              "            await google.colab.kernel.invokeFunction('convertToInteractive',\n",
              "                                                     [key], {});\n",
              "          if (!dataTable) return;\n",
              "\n",
              "          const docLinkHtml = 'Like what you see? Visit the ' +\n",
              "            '<a target=\"_blank\" href=https://colab.research.google.com/notebooks/data_table.ipynb>data table notebook</a>'\n",
              "            + ' to learn more about interactive tables.';\n",
              "          element.innerHTML = '';\n",
              "          dataTable['output_type'] = 'display_data';\n",
              "          await google.colab.output.renderOutput(dataTable, element);\n",
              "          const docLink = document.createElement('div');\n",
              "          docLink.innerHTML = docLinkHtml;\n",
              "          element.appendChild(docLink);\n",
              "        }\n",
              "      </script>\n",
              "    </div>\n",
              "  </div>\n",
              "  "
            ]
          },
          "metadata": {},
          "execution_count": 173
        }
      ],
      "source": [
        "data = pd.ExcelFile(os.path.join(GC.DATA_DIR, 'GEAR_Export_20220106_093424.xlsx'))\n",
        "\n",
        "df_application = data.parse('Application')[['name']]\n",
        "df_application.rename(columns={'name':'NAME'}, inplace=True)\n",
        "df_application.dropna(inplace=True)\n",
        "df_application.set_index('NAME', inplace=True)\n",
        "df_application.drop('Name', inplace=True)\n",
        "df_application['NR'] = np.arange(len(df_application)) + 1\n",
        "\n",
        "df_interface_provider = data.parse('applicationInterfaceProviderRe')\n",
        "df_interface_provider.drop(['id', 'type', 'RELATED_FACT_SHEET_TYPE', 'RELATED_FACT_SHEET_TYPE.1', 'status', 'activeFrom', 'activeUntil', 'naFields', 'description'], axis=1, inplace=True)\n",
        "df_interface_provider.rename(columns = {'RELATED_FACT_SHEET':'PROVIDER_APPLICATION', 'RELATED_FACT_SHEET.1':'INTERFACE'}, inplace = True)\n",
        "df_interface_provider.dropna(inplace = True)\n",
        "df_interface_provider.set_index('INTERFACE', inplace = True)\n",
        "df_interface_provider.drop('To', inplace = True)\n",
        "\n",
        "df_interface_consumer = data.parse('applicationInterfaceConsumerRe')\n",
        "df_interface_consumer.drop(['id', 'type', 'RELATED_FACT_SHEET_TYPE', 'RELATED_FACT_SHEET_TYPE.1', 'status', 'activeFrom', 'activeUntil', 'naFields', 'description'], axis=1, inplace=True)\n",
        "df_interface_consumer.rename(columns = {'RELATED_FACT_SHEET':'CONSUMER_APPLICATION', 'RELATED_FACT_SHEET.1':'INTERFACE'}, inplace = True)\n",
        "df_interface_consumer.dropna(inplace = True)\n",
        "df_interface_consumer.set_index('INTERFACE', inplace = True)\n",
        "df_interface_consumer.drop('To', inplace = True)\n",
        "\n",
        "df_edges = df_interface_provider.join(df_interface_consumer)\n",
        "df_edges.reset_index(drop=False, inplace=True)\n",
        "df_edges.set_index('PROVIDER_APPLICATION', inplace = True)\n",
        "\n",
        "#df_vertices = df_application.reset_index(drop=False, inplace=False)\n",
        "#df_vertices = df_vertices[['NR', 'NAME']]\n",
        "\n",
        "df_edges = df_edges.join(df_application)\n",
        "df_edges.reset_index(drop=False, inplace=True)\n",
        "#df_edges.set_index('CONSUMER_APPLICATION', inplace = True)\n",
        "#df_edges.rename(columns={'NR':'PROVIDER_NR', 'index':'PROVIDER_APPLICATION'}, inplace=True)\n",
        "\n",
        "#df_edges = df_edges.join(df_application)\n",
        "df_edges"
      ]
    },
    {
      "cell_type": "code",
      "execution_count": 144,
      "metadata": {
        "id": "NiKdYYBJfwvt",
        "outputId": "3c246609-228b-4ff1-c90e-5bc9ec8127ca",
        "colab": {
          "base_uri": "https://localhost:8080/"
        }
      },
      "outputs": [
        {
          "output_type": "stream",
          "name": "stdout",
          "text": [
            "653 3095\n",
            "[('DiOrg Aufbauorganisation', 113), ('ERGO-Partnersystem (PDB)', 111), ('Allgemeine Vertragsdaten', 107), ('ERGO Berechtigungssystem', 91), ('Vorgangs-DB (incl. AVuS)', 72), ('Leben Verwaltung Antrag/Vertrag', 66), ('Komposit Vertragsverwaltung (SV)', 66), ('SAP-HCM Personalwirtschaft', 65), ('ZKK Allgemein', 59), ('Gesundheit Bestandsverwaltung', 58)]\n",
            "[113, 111, 107, 91, 72, 66, 66, 65, 59, 58]\n",
            "{113: 1, 111: 1, 107: 1, 91: 1, 72: 1, 66: 2, 65: 1, 59: 1, 58: 1, 55: 1, 48: 1, 43: 1, 41: 2, 40: 2, 39: 1, 38: 1, 37: 1, 36: 2, 35: 1, 33: 2, 32: 2, 30: 2, 29: 1, 28: 1, 27: 1, 26: 1, 24: 1, 23: 1, 22: 4, 21: 1, 20: 5, 19: 4, 18: 4, 17: 2, 16: 6, 15: 4, 14: 5, 13: 4, 12: 7, 11: 3, 10: 5, 9: 6, 8: 7, 7: 9, 6: 15, 5: 12, 4: 12, 3: 17, 2: 37, 1: 79, 0: 370}\n"
          ]
        }
      ],
      "source": [
        "graph = nx.DiGraph()\n",
        "\n",
        "for s1 in df_vertices.values:\n",
        "    graph.add_node(s1[0])\n",
        "\n",
        "for s1, s2, s3 in df_edges.values:\n",
        "    graph.add_edge(s3, s2, name=s1)\n",
        "\n",
        "in_degrees = sorted(graph.in_degree(), key = lambda x: x[1], reverse=True)\n",
        "in_degree_values = [x[1] for x in list(in_degrees)]\n",
        "in_degree_counts = {x:in_degree_values.count(x) for x in in_degree_values}\n",
        "\n",
        "print(graph.number_of_nodes(), graph.number_of_edges())\n",
        "print(in_degrees[:10])\n",
        "print(in_degree_values[:10])\n",
        "print(in_degree_counts)"
      ]
    },
    {
      "cell_type": "code",
      "execution_count": 145,
      "metadata": {
        "id": "0lk8qMKsfwvv",
        "outputId": "6c3c0515-acec-4020-88ec-2ca8db3d4ff8",
        "colab": {
          "base_uri": "https://localhost:8080/",
          "height": 265
        }
      },
      "outputs": [
        {
          "output_type": "display_data",
          "data": {
            "text/plain": [
              "<Figure size 432x288 with 1 Axes>"
            ],
            "image/png": "[encoded data removed]"
          },
          "metadata": {
            "needs_background": "light"
          }
        }
      ],
      "source": [
        "plt.hist(in_degree_values, bins=20, align='right', log=False)\n",
        "plt.show()"
      ]
    },
    {
      "cell_type": "code",
      "execution_count": 146,
      "metadata": {
        "id": "nr4wmNJqfwvw",
        "colab": {
          "base_uri": "https://localhost:8080/",
          "height": 269
        },
        "outputId": "fc6e1365-78e6-4b3a-a50f-ed623b1b90e9"
      },
      "outputs": [
        {
          "output_type": "display_data",
          "data": {
            "text/plain": [
              "<Figure size 432x288 with 1 Axes>"
            ],
            "image/png": "[encoded data removed]"
          },
          "metadata": {
            "needs_background": "light"
          }
        }
      ],
      "source": [
        "plt.plot(list(in_degree_counts.keys()), list(in_degree_counts.values()), 'r.', markersize=3)\n",
        "plt.semilogx()\n",
        "plt.semilogy()\n",
        "plt.show()\n",
        "#2 diagrams"
      ]
    },
    {
      "cell_type": "code",
      "execution_count": 147,
      "metadata": {
        "id": "CJyDhq5Rfwvv",
        "outputId": "c8b50105-3959-462d-ed45-e7b2ad5a42c1",
        "colab": {
          "base_uri": "https://localhost:8080/"
        }
      },
      "outputs": [
        {
          "output_type": "execute_result",
          "data": {
            "text/plain": [
              "[('ERGO-Partnersystem (PDB)', 0.2709977837095329),\n",
              " ('Allgemeine Vertragsdaten', 0.26027199899085673),\n",
              " ('ERGO Berechtigungssystem', 0.2567929694274976),\n",
              " ('DiOrg Aufbauorganisation', 0.24892384526243988),\n",
              " ('Komposit Vertragsverwaltung (SV)', 0.21603441763367773),\n",
              " ('Vorgangs-DB (incl. AVuS)', 0.2114026663358469),\n",
              " ('Code of Conduct', 0.2076353297300809),\n",
              " ('Leben Verwaltung Antrag/Vertrag', 0.1779593528419094),\n",
              " ('SAP-HCM Personalwirtschaft', 0.17714621061046773),\n",
              " ('ZKK Allgemein', 0.1744061046251806)]"
            ]
          },
          "metadata": {},
          "execution_count": 147
        }
      ],
      "source": [
        "sorted(nx.eigenvector_centrality(graph).items(), key=lambda x : x[1], reverse=True)[:10]"
      ]
    },
    {
      "cell_type": "code",
      "source": [
        "nx.draw(graph, node_size=1)"
      ],
      "metadata": {
        "colab": {
          "base_uri": "https://localhost:8080/",
          "height": 319
        },
        "id": "mCl17aIRduwG",
        "outputId": "abb1848b-6df7-4542-c775-9ad247163c71"
      },
      "execution_count": 150,
      "outputs": [
        {
          "output_type": "display_data",
          "data": {
            "text/plain": [
              "<Figure size 432x288 with 1 Axes>"
            ],
            "image/png": "[encoded data removed]"
          },
          "metadata": {}
        }
      ]
    },
    {
      "cell_type": "code",
      "source": [
        "list(nx.selfloop_edges(graph))"
      ],
      "metadata": {
        "colab": {
          "base_uri": "https://localhost:8080/"
        },
        "id": "JrWaV5zz1ZIc",
        "outputId": "79390ed8-5a22-42f3-81bd-365489bb4ac3"
      },
      "execution_count": 149,
      "outputs": [
        {
          "output_type": "execute_result",
          "data": {
            "text/plain": [
              "[('Gesundheit Vertragsverwaltung Ausland',\n",
              "  'Gesundheit Vertragsverwaltung Ausland'),\n",
              " ('TDM2000', 'TDM2000'),\n",
              " ('Igloo Enterprise', 'Igloo Enterprise'),\n",
              " ('Dispositives System Gesundheit/Datamarts Kalkulation (DMK)',\n",
              "  'Dispositives System Gesundheit/Datamarts Kalkulation (DMK)')]"
            ]
          },
          "metadata": {},
          "execution_count": 149
        }
      ]
    },
    {
      "cell_type": "code",
      "source": [
        "G = nx.karate_club_graph()\n",
        "sorted(nx.eigenvector_centrality(G).items(), key=lambda x : x[1], reverse=True)[:10]"
      ],
      "metadata": {
        "colab": {
          "base_uri": "https://localhost:8080/"
        },
        "id": "ACCmMEBHTJ-E",
        "outputId": "55bdb2e0-3918-45a3-f33c-3fd986fd8cd0"
      },
      "execution_count": 155,
      "outputs": [
        {
          "output_type": "execute_result",
          "data": {
            "text/plain": [
              "[(33, 0.373371213013235),\n",
              " (0, 0.3554834941851943),\n",
              " (2, 0.31718938996844476),\n",
              " (32, 0.3086510477336959),\n",
              " (1, 0.2659538704545025),\n",
              " (8, 0.2274050914716605),\n",
              " (13, 0.22646969838808148),\n",
              " (3, 0.2111740783205706),\n",
              " (31, 0.19103626979791702),\n",
              " (30, 0.17476027834493085)]"
            ]
          },
          "metadata": {},
          "execution_count": 155
        }
      ]
    },
    {
      "cell_type": "code",
      "source": [
        ""
      ],
      "metadata": {
        "id": "CxTSFkgf4E24"
      },
      "execution_count": null,
      "outputs": []
    }
  ],
  "metadata": {
    "kernelspec": {
      "display_name": "Python 3 (ipykernel)",
      "language": "python",
      "name": "python3"
    },
    "language_info": {
      "codemirror_mode": {
        "name": "ipython",
        "version": 3
      },
      "file_extension": ".py",
      "mimetype": "text/x-python",
      "name": "python",
      "nbconvert_exporter": "python",
      "pygments_lexer": "ipython3",
      "version": "3.10.5"
    },
    "colab": {
      "name": "gear_start.ipynb",
      "provenance": [],
      "collapsed_sections": []
    }
  },
  "nbformat": 4,
  "nbformat_minor": 0
}